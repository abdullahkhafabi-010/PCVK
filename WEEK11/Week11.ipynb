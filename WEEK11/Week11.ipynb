{
  "cells": [
    {
      "cell_type": "markdown",
      "metadata": {
        "id": "view-in-github",
        "colab_type": "text"
      },
      "source": [
        "<a href=\"https://colab.research.google.com/github/abdullahkhafabi-010/PCVK/blob/main/WEEK11/Week11.ipynb\" target=\"_parent\"><img src=\"https://colab.research.google.com/assets/colab-badge.svg\" alt=\"Open In Colab\"/></a>"
      ]
    },
    {
      "cell_type": "markdown",
      "metadata": {
        "id": "0nKpOxtzWHVu"
      },
      "source": [
        "Nama: Abdullah Khafabi"
      ]
    },
    {
      "cell_type": "markdown",
      "metadata": {
        "id": "b46A6ie4WMrS"
      },
      "source": [
        "Nim: 2041720050"
      ]
    },
    {
      "cell_type": "markdown",
      "metadata": {
        "id": "vYNwQYfpWNHz"
      },
      "source": [
        "Kelas: 3A"
      ]
    },
    {
      "cell_type": "markdown",
      "metadata": {
        "id": "1qdqJQTdWgAj"
      },
      "source": [
        "# MODUL11 – Metode Deteksi Objek: Template Matching, Edge Detection, Corner Detection, Grid Detection, Contour Detection"
      ]
    },
    {
      "cell_type": "markdown",
      "metadata": {
        "id": "22M8gJxeWwg-"
      },
      "source": [
        "1. import folder yang ada di Drive"
      ]
    },
    {
      "cell_type": "code",
      "execution_count": 1,
      "metadata": {
        "colab": {
          "base_uri": "https://localhost:8080/"
        },
        "id": "mKDsBsu6SoeB",
        "outputId": "f9e2c054-0fbe-4fda-d989-89372dfe3c93"
      },
      "outputs": [
        {
          "output_type": "stream",
          "name": "stdout",
          "text": [
            "Mounted at /content/drive\n"
          ]
        }
      ],
      "source": [
        "from google.colab import drive\n",
        "\n",
        "#Accessing My Google Drive\n",
        "drive.mount('/content/drive')"
      ]
    },
    {
      "cell_type": "markdown",
      "metadata": {
        "id": "0YE2ER-ZW0M9"
      },
      "source": [
        "# Object Detection\n",
        "1. Template Matching\n",
        "2. Edge Detection\n",
        "3. Corner Detection\n",
        "4. Grid Detection\n",
        "5. Contour Detection"
      ]
    },
    {
      "cell_type": "code",
      "execution_count": 5,
      "metadata": {
        "id": "dPzLR5tBTF4m"
      },
      "outputs": [],
      "source": [
        "import cv2\n",
        "import numpy as np\n",
        "import matplotlib.pyplot as plt"
      ]
    },
    {
      "cell_type": "markdown",
      "metadata": {
        "id": "-izyD1CBYN1q"
      },
      "source": [
        "2. Implementasikan 6 metode template matching pada OpenCV dengan menggunakan\n",
        "gambar cats_and_bunnies.jpg dan cat2_templatejpg.jpg sebagai templatenya."
      ]
    },
    {
      "cell_type": "code",
      "execution_count": null,
      "metadata": {
        "id": "-8tIAUMmWNIf"
      },
      "outputs": [],
      "source": [
        "from google.colab.patches import cv2_imshow\n",
        "import cv2\n",
        "import numpy as np\n",
        "\n",
        "# Membaca gambar sumber\n",
        "main_image = cv2.imread('/content/drive/MyDrive/PCVK/Week11/cats_and_bunnies.jpg')\n",
        "\n",
        "# Membaca template\n",
        "template = cv2.imread('/content/drive/MyDrive/PCVK/Week11/cats_and_bunnies.jpg')\n",
        "\n",
        "# Konversi gambar ke grayscale\n",
        "main_gray = cv2.cvtColor(main_image, cv2.COLOR_BGR2GRAY)\n",
        "template_gray = cv2.cvtColor(template, cv2.COLOR_BGR2GRAY)\n",
        "\n",
        "# Mendapatkan tinggi dan lebar dari template\n",
        "w, h = template_gray.shape[::-1]\n",
        "\n",
        "# Metode template matching yang akan digunakan\n",
        "methods = [cv2.TM_SQDIFF, cv2.TM_SQDIFF_NORMED, cv2.TM_CCORR, cv2.TM_CCORR_NORMED, cv2.TM_CCOEFF, cv2.TM_CCOEFF_NORMED]\n",
        "\n",
        "for method in methods:\n",
        "    # Melakukan template matching\n",
        "    result = cv2.matchTemplate(main_gray, template_gray, method)\n",
        "\n",
        "    # Mendapatkan posisi terbaik dari hasil matching\n",
        "    if method in [cv2.TM_SQDIFF, cv2.TM_CCORR_NORMED]:\n",
        "        min_val, max_val, min_loc, max_loc = cv2.minMaxLoc(result)\n",
        "        top_left = min_loc if method in [cv2.TM_SQDIFF, cv2.TM_SQDIFF_NORMED] else max_loc\n",
        "    else:\n",
        "        top_left = cv2.minMaxLoc(result)[2]\n",
        "\n",
        "    bottom_right = (top_left[0] + w, top_left[1] + h)\n",
        "\n",
        "    # Membuat kotak di sekitar area yang di-identifikasi sebagai template\n",
        "    matched_image = main_image.copy()\n",
        "    cv2.rectangle(matched_image, top_left, bottom_right, 255, 2)\n",
        "\n",
        "    # Menampilkan hasil matching\n",
        "    cv2_imshow(matched_image)"
      ]
    }
  ],
  "metadata": {
    "colab": {
      "provenance": [],
      "authorship_tag": "ABX9TyNw0av9AIMQnO1sP2m/onlu",
      "include_colab_link": true
    },
    "kernelspec": {
      "display_name": "Python 3",
      "name": "python3"
    },
    "language_info": {
      "name": "python"
    }
  },
  "nbformat": 4,
  "nbformat_minor": 0
}